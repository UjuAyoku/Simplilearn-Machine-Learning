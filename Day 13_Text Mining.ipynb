{
 "cells": [
  {
   "cell_type": "markdown",
   "metadata": {},
   "source": [
    "# Text Mining\n",
    "\n",
    "Mining your textual data for information for patterns, insights, information etc. This is under NLP (Natural Language Processing).\n",
    "\n",
    "Applications\n",
    "1. Speech recognition\n",
    "2. Spam filtering\n",
    "3. E-commerce personalization\n",
    "4. Sentiment Analysis\n",
    "\n",
    "Text -> Text preprocessing > Text transformation > Attribute selection (to reduce dimension. PCA/LDA will not work here)/Pattern detection > Data mining > Interpretation/Evaluation\n",
    "\n",
    "NLTK is a set of python modules used to work with human lang data\n",
    "\n",
    "__1. Toeknization__ is the process of breaking stream of text into words (word tokenizer) or sentences(sentence tokenizer) using spaces and punctuation (fullstop, !, etc).\n",
    "\n",
    "__2. Stop word removal__ - such as a, an, and, the etc\n",
    "There is a stopwords package in nltk.corpus You need to initialize it with the Language you want to initiatize.\n",
    "\n",
    "__3. Get the root words__\n",
    "Stemming and Lemmatization are ways to get the root word.\n",
    "\n",
    "__Stemming__ involves reducing a word to stem or base (root) form by removing affixes. e.g. helps/helping/helped/help/helper (form) -> help (stem) where suffix is -s, -ing, -ed, -, -er\n",
    "The PorterStermmer in nltk.stem is used for stemming.\n",
    "\n",
    "One disadvantage of stemming is that some words may become meaningless when stemmed e.g. beautiful to beauti hence the need for Lemmatization\n",
    "\n",
    "__Lemmatization__ uses vocabulary list (inbuilt dictionary) and morphological analysis (POS of a word) to get the root word. Context is taken into account. If you lemmatize the word 'beautiful', you will get the root as beauty.\n",
    "WordNetLemmatizer package in nltk.stem is used. Without a POS tag, the lemmatizer assumes everything is a noun. e.g. saw can be a verb or a noun e.g. I saw a bird (verb so lemmatizer will reduce it to it's root 'see'). Saw the wood (noun so lemmatizer leaves it as 'saw'). It's for English corpus words.\n",
    "\n",
    "\n",
    "__4. POS Tagging__ (POS-Parts of Speech)\n",
    "POS tagging marks words in the corpus to a corresponding part of a speech e.g. verb, noun tag based on it's context and definition. \n",
    "\n",
    "POS tags are useful for lemmatization, in building NERs (Name Entity Recognition) and extracting relations between words.\n",
    "\n",
    "__Named Entity Recognition__ (NER)\n",
    "Is done __after__ POS tagging. Seeks to extract a real-world entity from the text and sort it into pre-defined categories such as the names of persons, organizations, locations etc.\n",
    "\n",
    "There are 7 types of NER tags available\n",
    "- Person\n",
    "- Organization \n",
    "- Percent\n",
    "- Date\n",
    "- Geo-political entity\n",
    "- Location\n",
    "- Currency\n",
    "\n",
    "__5. Information retrieval__ Extracting relevant information from source."
   ]
  },
  {
   "cell_type": "markdown",
   "metadata": {},
   "source": [
    "# 1. Import nltk"
   ]
  },
  {
   "cell_type": "code",
   "execution_count": 1,
   "metadata": {},
   "outputs": [],
   "source": [
    "import nltk\n",
    "# nltk.download()"
   ]
  },
  {
   "cell_type": "code",
   "execution_count": 2,
   "metadata": {},
   "outputs": [
    {
     "data": {
      "text/plain": [
       "'Once when King Krishnadevaraya had gone to survey the jail, two burglars who were prisoners there, asked for his mercy. They told him that they were experts at burglary and could help the king in catching other thieves.The king being a kind ruler asked his guards to release them but with a condition. He told the burglars that he would release them and appoint them as his spies only if they could break into his advisor Tenali Raman’s house and steal valuables from there. The thieves agreed for the challenge.That same night the two thieves went to Tenali Raman’s house and hid behind some bushes. After dinner, when Tenali Raman came out for a stroll, he heard some rustling in the bushes. He at once perceived the existence of thieves in his garden.'"
      ]
     },
     "execution_count": 2,
     "metadata": {},
     "output_type": "execute_result"
    }
   ],
   "source": [
    "text = \"Once when King Krishnadevaraya had gone to survey the jail, two burglars who were prisoners there, asked for his mercy. They told him that they were experts at burglary and could help the king in catching other thieves.The king being a kind ruler asked his guards to release them but with a condition. He told the burglars that he would release them and appoint them as his spies only if they could break into his advisor Tenali Raman’s house and steal valuables from there. The thieves agreed for the challenge.That same night the two thieves went to Tenali Raman’s house and hid behind some bushes. After dinner, when Tenali Raman came out for a stroll, he heard some rustling in the bushes. He at once perceived the existence of thieves in his garden.\"\n",
    "\n",
    "text"
   ]
  },
  {
   "cell_type": "markdown",
   "metadata": {},
   "source": [
    "# 2. Simple Preprocessing\n",
    "\n",
    "__Convert the text into lowercase__ so that words with same meaning are not seen as different because one is upper and the other lower e.g. King vs king"
   ]
  },
  {
   "cell_type": "code",
   "execution_count": 3,
   "metadata": {},
   "outputs": [
    {
     "data": {
      "text/plain": [
       "'once when king krishnadevaraya had gone to survey the jail, two burglars who were prisoners there, asked for his mercy. they told him that they were experts at burglary and could help the king in catching other thieves.the king being a kind ruler asked his guards to release them but with a condition. he told the burglars that he would release them and appoint them as his spies only if they could break into his advisor tenali raman’s house and steal valuables from there. the thieves agreed for the challenge.that same night the two thieves went to tenali raman’s house and hid behind some bushes. after dinner, when tenali raman came out for a stroll, he heard some rustling in the bushes. he at once perceived the existence of thieves in his garden.'"
      ]
     },
     "execution_count": 3,
     "metadata": {},
     "output_type": "execute_result"
    }
   ],
   "source": [
    "text = text.lower()\n",
    "text"
   ]
  },
  {
   "cell_type": "markdown",
   "metadata": {},
   "source": [
    "# 3. Sentence tokenization"
   ]
  },
  {
   "cell_type": "code",
   "execution_count": 4,
   "metadata": {},
   "outputs": [
    {
     "name": "stdout",
     "output_type": "stream",
     "text": [
      "['once when king krishnadevaraya had gone to survey the jail, two burglars who were prisoners there, asked for his mercy.', 'they told him that they were experts at burglary and could help the king in catching other thieves.the king being a kind ruler asked his guards to release them but with a condition.', 'he told the burglars that he would release them and appoint them as his spies only if they could break into his advisor tenali raman’s house and steal valuables from there.', 'the thieves agreed for the challenge.that same night the two thieves went to tenali raman’s house and hid behind some bushes.', 'after dinner, when tenali raman came out for a stroll, he heard some rustling in the bushes.', 'he at once perceived the existence of thieves in his garden.']\n"
     ]
    }
   ],
   "source": [
    "from nltk import sent_tokenize\n",
    "\n",
    "# initialize the method and pass the text\n",
    "sent_text = sent_tokenize(text)\n",
    "\n",
    "print(sent_text)"
   ]
  },
  {
   "cell_type": "markdown",
   "metadata": {},
   "source": [
    "# 4. Word tokenization"
   ]
  },
  {
   "cell_type": "code",
   "execution_count": 5,
   "metadata": {},
   "outputs": [
    {
     "name": "stdout",
     "output_type": "stream",
     "text": [
      "[['once', 'when', 'king', 'krishnadevaraya', 'had', 'gone', 'to', 'survey', 'the', 'jail', ',', 'two', 'burglars', 'who', 'were', 'prisoners', 'there', ',', 'asked', 'for', 'his', 'mercy', '.'], ['they', 'told', 'him', 'that', 'they', 'were', 'experts', 'at', 'burglary', 'and', 'could', 'help', 'the', 'king', 'in', 'catching', 'other', 'thieves.the', 'king', 'being', 'a', 'kind', 'ruler', 'asked', 'his', 'guards', 'to', 'release', 'them', 'but', 'with', 'a', 'condition', '.'], ['he', 'told', 'the', 'burglars', 'that', 'he', 'would', 'release', 'them', 'and', 'appoint', 'them', 'as', 'his', 'spies', 'only', 'if', 'they', 'could', 'break', 'into', 'his', 'advisor', 'tenali', 'raman', '’', 's', 'house', 'and', 'steal', 'valuables', 'from', 'there', '.'], ['the', 'thieves', 'agreed', 'for', 'the', 'challenge.that', 'same', 'night', 'the', 'two', 'thieves', 'went', 'to', 'tenali', 'raman', '’', 's', 'house', 'and', 'hid', 'behind', 'some', 'bushes', '.'], ['after', 'dinner', ',', 'when', 'tenali', 'raman', 'came', 'out', 'for', 'a', 'stroll', ',', 'he', 'heard', 'some', 'rustling', 'in', 'the', 'bushes', '.'], ['he', 'at', 'once', 'perceived', 'the', 'existence', 'of', 'thieves', 'in', 'his', 'garden', '.']]\n"
     ]
    }
   ],
   "source": [
    "from nltk import word_tokenize\n",
    "\n",
    "word_text = []\n",
    "\n",
    "for sent in sent_text:\n",
    "    word_text.append(word_tokenize(sent))\n",
    "    \n",
    "print(word_text)"
   ]
  },
  {
   "cell_type": "markdown",
   "metadata": {},
   "source": [
    "# 5. Stop word removal"
   ]
  },
  {
   "cell_type": "code",
   "execution_count": 6,
   "metadata": {},
   "outputs": [
    {
     "name": "stdout",
     "output_type": "stream",
     "text": [
      "{'out', 'to', 'couldn', 'each', 'because', 'ours', 'through', 'about', 'some', 'ain', 'herself', 'down', 'him', 'now', 'here', 'have', 'while', 'how', 'any', 'her', 'of', 'll', 'myself', \"doesn't\", 'm', 't', 'yourselves', 'she', 'does', 'yourself', 're', 'my', 'haven', 'but', \"she's\", \"mightn't\", 'so', 'our', 'was', 'very', 'for', 'both', 'an', 'during', 'hasn', 'no', 'shouldn', 'by', \"didn't\", \"that'll\", 'had', 'aren', 'same', 'most', 'ourselves', 'wasn', 'there', 'they', 'needn', 'just', \"mustn't\", 'theirs', 'are', 'with', 'what', \"aren't\", 'i', 'itself', 'he', 'this', 'and', 'can', \"should've\", 'such', 'hadn', \"you've\", 'up', 'mightn', 'shan', 'y', \"shan't\", \"isn't\", \"couldn't\", 'not', 'being', 's', 'am', 'has', 'after', 'above', 'be', 'over', 'those', 'in', 'we', 'hers', 'nor', 'should', 'doesn', 'will', 'won', 'than', 'until', 'ma', 'these', \"don't\", 'when', 'further', 'his', 'which', 'their', 'from', 'your', 'all', 'before', 'below', 'once', \"weren't\", \"it's\", 'doing', \"won't\", 'were', 'a', 'wouldn', \"shouldn't\", 'weren', \"needn't\", 'its', \"you'll\", 'is', 'did', 'didn', 'you', 'only', 'then', 'it', 'few', 'too', 'don', 'themselves', \"you're\", 'them', 'between', 'o', 'isn', 'himself', \"wasn't\", 'again', 'or', \"hasn't\", 'as', 'at', \"you'd\", 'why', 'against', 'who', 'into', 'been', 'whom', 'mustn', 'me', 'if', 'the', 'd', \"hadn't\", 'yours', 'that', 'under', 'on', \"wouldn't\", 'other', 've', 'do', \"haven't\", 'having', 'more', 'off', 'own', 'where'}\n"
     ]
    }
   ],
   "source": [
    "from nltk.corpus import stopwords\n",
    "\n",
    "stopwords_en = set(stopwords.words('english'))\n",
    "\n",
    "print(stopwords_en)\n",
    "\n",
    "       "
   ]
  },
  {
   "cell_type": "markdown",
   "metadata": {},
   "source": [
    "# 6. Eliminate stop words"
   ]
  },
  {
   "cell_type": "code",
   "execution_count": 8,
   "metadata": {},
   "outputs": [
    {
     "name": "stdout",
     "output_type": "stream",
     "text": [
      "['king', 'krishnadevaraya', 'gone', 'survey', 'jail', ',', 'two', 'burglars', 'prisoners', ',', 'asked', 'mercy', '.', 'told', 'experts', 'burglary', 'could', 'help', 'king', 'catching', 'thieves.the', 'king', 'kind', 'ruler', 'asked', 'guards', 'release', 'condition', '.', 'told', 'burglars', 'would', 'release', 'appoint', 'spies', 'could', 'break', 'advisor', 'tenali', 'raman', '’', 'house', 'steal', 'valuables', '.', 'thieves', 'agreed', 'challenge.that', 'night', 'two', 'thieves', 'went', 'tenali', 'raman', '’', 'house', 'hid', 'behind', 'bushes', '.', 'dinner', ',', 'tenali', 'raman', 'came', 'stroll', ',', 'heard', 'rustling', 'bushes', '.', 'perceived', 'existence', 'thieves', 'garden', '.']\n"
     ]
    }
   ],
   "source": [
    "# using list comprehension\n",
    "# word_text_filtered = [word for word in word_text if word not in stopwords_en]   # store only words not in stopwords_en\n",
    "\n",
    "word_text_filtered = []\n",
    "for w in word_tokenize(text):\n",
    "    if w not in stopwords_en:\n",
    "        word_text_filtered.append(w)\n",
    "        \n",
    "print(word_text_filtered)\n",
    "\n",
    "# to customize your own stop words, initialize a list and use it to filter"
   ]
  },
  {
   "cell_type": "markdown",
   "metadata": {},
   "source": [
    "# Stop words and filtering combined code\n",
    "from nltk.corpus import stopwords\n",
    "stopwords_en = set(stopwords.words('english'))\n",
    "print(stopwords_en)\n",
    "word_text_filtered = []\n",
    "for w in word_tokenize(text):\n",
    "    if w not in stopwords_en:\n",
    "        word_text_filtered.append(w)\n",
    "print(word_text_filtered)"
   ]
  },
  {
   "cell_type": "markdown",
   "metadata": {},
   "source": [
    "# 7. Stemming\n",
    "\n",
    "Every word has to be stemmed"
   ]
  },
  {
   "cell_type": "code",
   "execution_count": 11,
   "metadata": {},
   "outputs": [
    {
     "name": "stdout",
     "output_type": "stream",
     "text": [
      "king\n",
      "krishnadevaraya\n",
      "gone\n",
      "survey\n",
      "jail\n",
      ",\n",
      "two\n",
      "burglar\n",
      "prison\n",
      ",\n",
      "ask\n",
      "merci\n",
      ".\n",
      "told\n",
      "expert\n",
      "burglari\n",
      "could\n",
      "help\n",
      "king\n",
      "catch\n",
      "thieves.th\n",
      "king\n",
      "kind\n",
      "ruler\n",
      "ask\n",
      "guard\n",
      "releas\n",
      "condit\n",
      ".\n",
      "told\n",
      "burglar\n",
      "would\n",
      "releas\n",
      "appoint\n",
      "spi\n",
      "could\n",
      "break\n",
      "advisor\n",
      "tenali\n",
      "raman\n",
      "’\n",
      "hous\n",
      "steal\n",
      "valuabl\n",
      ".\n",
      "thiev\n",
      "agre\n",
      "challenge.that\n",
      "night\n",
      "two\n",
      "thiev\n",
      "went\n",
      "tenali\n",
      "raman\n",
      "’\n",
      "hous\n",
      "hid\n",
      "behind\n",
      "bush\n",
      ".\n",
      "dinner\n",
      ",\n",
      "tenali\n",
      "raman\n",
      "came\n",
      "stroll\n",
      ",\n",
      "heard\n",
      "rustl\n",
      "bush\n",
      ".\n",
      "perceiv\n",
      "exist\n",
      "thiev\n",
      "garden\n",
      ".\n"
     ]
    }
   ],
   "source": [
    "from nltk.stem import PorterStemmer\n",
    "\n",
    "stemmer = PorterStemmer()\n",
    "\n",
    "for word in word_text_filtered:\n",
    "    print(stemmer.stem(word))"
   ]
  },
  {
   "cell_type": "markdown",
   "metadata": {},
   "source": [
    "# 8. Lemmatization"
   ]
  },
  {
   "cell_type": "code",
   "execution_count": 12,
   "metadata": {},
   "outputs": [
    {
     "name": "stdout",
     "output_type": "stream",
     "text": [
      "king\n",
      "krishnadevaraya\n",
      "gone\n",
      "survey\n",
      "jail\n",
      ",\n",
      "two\n",
      "burglar\n",
      "prisoner\n",
      ",\n",
      "asked\n",
      "mercy\n",
      ".\n",
      "told\n",
      "expert\n",
      "burglary\n",
      "could\n",
      "help\n",
      "king\n",
      "catching\n",
      "thieves.the\n",
      "king\n",
      "kind\n",
      "ruler\n",
      "asked\n",
      "guard\n",
      "release\n",
      "condition\n",
      ".\n",
      "told\n",
      "burglar\n",
      "would\n",
      "release\n",
      "appoint\n",
      "spy\n",
      "could\n",
      "break\n",
      "advisor\n",
      "tenali\n",
      "raman\n",
      "’\n",
      "house\n",
      "steal\n",
      "valuable\n",
      ".\n",
      "thief\n",
      "agreed\n",
      "challenge.that\n",
      "night\n",
      "two\n",
      "thief\n",
      "went\n",
      "tenali\n",
      "raman\n",
      "’\n",
      "house\n",
      "hid\n",
      "behind\n",
      "bush\n",
      ".\n",
      "dinner\n",
      ",\n",
      "tenali\n",
      "raman\n",
      "came\n",
      "stroll\n",
      ",\n",
      "heard\n",
      "rustling\n",
      "bush\n",
      ".\n",
      "perceived\n",
      "existence\n",
      "thief\n",
      "garden\n",
      ".\n"
     ]
    }
   ],
   "source": [
    "# if lemmatization is not working, download nltk.download('wordnet') \n",
    "from nltk.stem import WordNetLemmatizer\n",
    "\n",
    "# instantiate lemmatizer\n",
    "lemmatizer =  WordNetLemmatizer()\n",
    "\n",
    "for word in word_text_filtered:\n",
    "    print(lemmatizer.lemmatize(word))"
   ]
  },
  {
   "cell_type": "markdown",
   "metadata": {},
   "source": [
    "Notice how lemmatization is has the correct full root e.g. 'theif' compared to stemming 'theiv'"
   ]
  },
  {
   "cell_type": "markdown",
   "metadata": {},
   "source": [
    "# 8. POS Tagging\n",
    "\n",
    "It's best to use the lemmatized words so save the output to a list. Instructor was having issues with it and used the original text instead below"
   ]
  },
  {
   "cell_type": "code",
   "execution_count": 13,
   "metadata": {},
   "outputs": [
    {
     "name": "stdout",
     "output_type": "stream",
     "text": [
      "[('once', 'RB'), ('when', 'WRB'), ('king', 'VBG'), ('krishnadevaraya', 'NN'), ('had', 'VBD'), ('gone', 'VBN'), ('to', 'TO'), ('survey', 'NN'), ('the', 'DT'), ('jail', 'NN'), (',', ','), ('two', 'CD'), ('burglars', 'NNS'), ('who', 'WP'), ('were', 'VBD'), ('prisoners', 'NNS'), ('there', 'RB'), (',', ','), ('asked', 'VBD'), ('for', 'IN'), ('his', 'PRP$'), ('mercy', 'NN'), ('.', '.'), ('they', 'PRP'), ('told', 'VBD'), ('him', 'PRP'), ('that', 'IN'), ('they', 'PRP'), ('were', 'VBD'), ('experts', 'NNS'), ('at', 'IN'), ('burglary', 'NN'), ('and', 'CC'), ('could', 'MD'), ('help', 'VB'), ('the', 'DT'), ('king', 'NN'), ('in', 'IN'), ('catching', 'VBG'), ('other', 'JJ'), ('thieves.the', 'NN'), ('king', 'VBG'), ('being', 'VBG'), ('a', 'DT'), ('kind', 'NN'), ('ruler', 'NN'), ('asked', 'VBD'), ('his', 'PRP$'), ('guards', 'NNS'), ('to', 'TO'), ('release', 'VB'), ('them', 'PRP'), ('but', 'CC'), ('with', 'IN'), ('a', 'DT'), ('condition', 'NN'), ('.', '.'), ('he', 'PRP'), ('told', 'VBD'), ('the', 'DT'), ('burglars', 'NNS'), ('that', 'IN'), ('he', 'PRP'), ('would', 'MD'), ('release', 'VB'), ('them', 'PRP'), ('and', 'CC'), ('appoint', 'VB'), ('them', 'PRP'), ('as', 'IN'), ('his', 'PRP$'), ('spies', 'NNS'), ('only', 'RB'), ('if', 'IN'), ('they', 'PRP'), ('could', 'MD'), ('break', 'VB'), ('into', 'IN'), ('his', 'PRP$'), ('advisor', 'NN'), ('tenali', 'NN'), ('raman', 'NN'), ('’', 'NNP'), ('s', 'NN'), ('house', 'NN'), ('and', 'CC'), ('steal', 'JJ'), ('valuables', 'NNS'), ('from', 'IN'), ('there', 'RB'), ('.', '.'), ('the', 'DT'), ('thieves', 'NNS'), ('agreed', 'VBD'), ('for', 'IN'), ('the', 'DT'), ('challenge.that', 'NN'), ('same', 'JJ'), ('night', 'NN'), ('the', 'DT'), ('two', 'CD'), ('thieves', 'NNS'), ('went', 'VBD'), ('to', 'TO'), ('tenali', 'VB'), ('raman', 'JJ'), ('’', 'NNP'), ('s', 'NN'), ('house', 'NN'), ('and', 'CC'), ('hid', 'NN'), ('behind', 'IN'), ('some', 'DT'), ('bushes', 'NNS'), ('.', '.'), ('after', 'IN'), ('dinner', 'NN'), (',', ','), ('when', 'WRB'), ('tenali', 'NN'), ('raman', 'NN'), ('came', 'VBD'), ('out', 'RP'), ('for', 'IN'), ('a', 'DT'), ('stroll', 'NN'), (',', ','), ('he', 'PRP'), ('heard', 'VBD'), ('some', 'DT'), ('rustling', 'NN'), ('in', 'IN'), ('the', 'DT'), ('bushes', 'NNS'), ('.', '.'), ('he', 'PRP'), ('at', 'IN'), ('once', 'RB'), ('perceived', 'VBN'), ('the', 'DT'), ('existence', 'NN'), ('of', 'IN'), ('thieves', 'NNS'), ('in', 'IN'), ('his', 'PRP$'), ('garden', 'NN'), ('.', '.')]\n"
     ]
    }
   ],
   "source": [
    "# nltk.download('average_perceptron_tagger')\n",
    "tagged_text = nltk.pos_tag(word_tokenize(text))\n",
    "\n",
    "print(tagged_text)"
   ]
  },
  {
   "cell_type": "markdown",
   "metadata": {},
   "source": [
    "# 9. Named Entity Recognition"
   ]
  },
  {
   "cell_type": "code",
   "execution_count": 14,
   "metadata": {},
   "outputs": [
    {
     "name": "stdout",
     "output_type": "stream",
     "text": [
      "[('Sundar', 'GPE'), ('CEO of Google', 'ORGANIZATION'), ('American', 'GPE')]\n"
     ]
    }
   ],
   "source": [
    "text3 = 'Sundar is the CEO of Google which is an American company.'\n",
    "\n",
    "# tokenize\n",
    "tokenised = nltk.word_tokenize(text3)\n",
    "\n",
    "# POS tag\n",
    "tagged_text3 = nltk.pos_tag(tokenised)\n",
    "\n",
    "ne_chunked = nltk.ne_chunk(tagged_text3)     # see chunking and chinking\n",
    "# print(ne_chunked)\n",
    "\n",
    "# iterate and extract only the nouns and provide tags for them\n",
    "named_entities = []\n",
    "for tagged_tree in ne_chunked:\n",
    "    if hasattr(tagged_tree , 'label'):\n",
    "        entity_name =' '.join(c[0] for c in tagged_tree.leaves())\n",
    "        entity_type = tagged_tree.label()\n",
    "        named_entities.append((entity_name,entity_type))\n",
    "        \n",
    "print(named_entities)"
   ]
  },
  {
   "cell_type": "markdown",
   "metadata": {},
   "source": [
    "Notice how it inaccurately tagged 'Sundar' as 'GPE' instead of 'PERSON'. To improve the tagging accuracy, use other options besides nltk."
   ]
  },
  {
   "cell_type": "markdown",
   "metadata": {},
   "source": [
    "# End of Text processing section"
   ]
  },
  {
   "cell_type": "markdown",
   "metadata": {},
   "source": [
    "If you have a large text or observe that your texts are not tagged properly, use other solutions like Spacy instead of nltk or creat chunks"
   ]
  },
  {
   "cell_type": "markdown",
   "metadata": {},
   "source": [
    "# Chunking \n",
    "\n",
    "Noun(noun/adjective) or verb (pronoun/verb/adverb) phrase extraction before passing it to NER hence making easier to identify the NER tags\n",
    "\n",
    "VBG-helping"
   ]
  },
  {
   "cell_type": "markdown",
   "metadata": {},
   "source": [
    "# Chinking\n",
    "\n",
    "Chinking is the process of removing the sequence of unwanted tokens from a chunk. If the sequence spans the entire sentence, then the entire sentence is removed.\n",
    "\n",
    "A chink is the part that has to be removed from a chunk. You need to "
   ]
  }
 ],
 "metadata": {
  "kernelspec": {
   "display_name": "Python 3",
   "language": "python",
   "name": "python3"
  },
  "language_info": {
   "codemirror_mode": {
    "name": "ipython",
    "version": 3
   },
   "file_extension": ".py",
   "mimetype": "text/x-python",
   "name": "python",
   "nbconvert_exporter": "python",
   "pygments_lexer": "ipython3",
   "version": "3.7.6"
  }
 },
 "nbformat": 4,
 "nbformat_minor": 4
}
